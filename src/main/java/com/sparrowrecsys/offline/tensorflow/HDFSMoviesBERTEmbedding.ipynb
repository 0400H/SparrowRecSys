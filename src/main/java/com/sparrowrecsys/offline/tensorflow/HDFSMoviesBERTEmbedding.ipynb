{
 "cells": [
  {
   "cell_type": "code",
   "execution_count": 1,
   "id": "daed21d0-b5bc-4bb7-ad12-d493978d087a",
   "metadata": {},
   "outputs": [
    {
     "name": "stderr",
     "output_type": "stream",
     "text": [
      "2023-09-26 08:37:35.328427: I tensorflow/core/util/port.cc:110] oneDNN custom operations are on. You may see slightly different numerical results due to floating-point round-off errors from different computation orders. To turn them off, set the environment variable `TF_ENABLE_ONEDNN_OPTS=0`.\n",
      "2023-09-26 08:37:35.331505: I tensorflow/tsl/cuda/cudart_stub.cc:28] Could not find cuda drivers on your machine, GPU will not be used.\n",
      "2023-09-26 08:37:35.393030: I tensorflow/tsl/cuda/cudart_stub.cc:28] Could not find cuda drivers on your machine, GPU will not be used.\n",
      "2023-09-26 08:37:35.395819: I tensorflow/core/platform/cpu_feature_guard.cc:182] This TensorFlow binary is optimized to use available CPU instructions in performance-critical operations.\n",
      "To enable the following instructions: AVX2 AVX512F AVX512_VNNI FMA, in other operations, rebuild TensorFlow with the appropriate compiler flags.\n",
      "2023-09-26 08:37:36.337709: W tensorflow/compiler/tf2tensorrt/utils/py_utils.cc:38] TF-TRT Warning: Could not find TensorRT\n"
     ]
    }
   ],
   "source": [
    "# Load movies from HDFS, generate embeddings of movie titles with BERT, then save embeddings to\n",
    "# redis and HDFS.\n",
    "\n",
    "import os\n",
    "import subprocess\n",
    "from time import localtime, strftime\n",
    "\n",
    "import numpy as np\n",
    "import redis\n",
    "\n",
    "import tensorflow_hub as hub\n",
    "import tensorflow_text as text"
   ]
  },
  {
   "cell_type": "code",
   "execution_count": 2,
   "id": "14734162-3c33-46b8-b4b7-3cbb28f91f09",
   "metadata": {},
   "outputs": [],
   "source": [
    "HDFS_PATH=\"hdfs://sparrow-recsys-dev:8020/sparrow_recsys/\"\n",
    "HDFS_PATH_MOVIE_EMBEDDINGS=HDFS_PATH+\"movie-embeddings/\"\n",
    "\n",
    "REDIS_SERVER=\"sparrow-recsys-dev\"\n",
    "REDIS_PORT=6379\n",
    "REDIS_PASSWD=\"123456\"\n",
    "REDIS_KEY_MOVIE_EMBEDDING_VERSION=\"sparrow_recsys:version:me\"\n",
    "REDIS_KEY_PREFIX_MOVIE_EMBEDDING=\"sparrow_recsys:me\""
   ]
  },
  {
   "cell_type": "code",
   "execution_count": 3,
   "id": "82524634-f920-40fc-a3e4-417eda2288cf",
   "metadata": {},
   "outputs": [
    {
     "name": "stdout",
     "output_type": "stream",
     "text": [
      "hdfs dfs -cat hdfs://sparrow-recsys-dev:8020/sparrow_recsys/movies/*/part-*\n",
      "HDFS movies count: 983, first: [b'0' b'title' b'genres']\n"
     ]
    }
   ],
   "source": [
    "# load movies from HDFS\n",
    "\n",
    "cmd = \"hdfs dfs -cat \" + HDFS_PATH + \"movies/*/part-*\"\n",
    "cat_hdfs_movies = subprocess.Popen(cmd.split(\" \"), stdout=subprocess.PIPE)\n",
    "print(cmd)\n",
    "\n",
    "movies = []\n",
    "for line in cat_hdfs_movies.stdout:\n",
    "    movie_info = line.strip().split(b\"\\t\")\n",
    "    if len(movie_info) == 3:\n",
    "        movies.append(movie_info)\n",
    "\n",
    "movies = np.array(movies)\n",
    "print(f\"HDFS movies count: {len(movies)}, first: {movies[0]}\")\n",
    "\n",
    "if len(movies) == 0:\n",
    "    exit(1)"
   ]
  },
  {
   "cell_type": "code",
   "execution_count": 4,
   "id": "09bd1a57-2899-4967-a6c4-8b2ce4c302f5",
   "metadata": {},
   "outputs": [],
   "source": [
    "# get embeddings\n",
    "tfhub_handle_preprocess = \"https://tfhub.dev/tensorflow/bert_en_uncased_preprocess/3\"\n",
    "tfhub_handle_encoder = \"https://tfhub.dev/tensorflow/small_bert/bert_en_uncased_L-4_H-128_A-2/2\"\n",
    "\n",
    "preprocess_model = hub.KerasLayer(tfhub_handle_preprocess)\n",
    "encoder_model = hub.KerasLayer(tfhub_handle_encoder)"
   ]
  },
  {
   "cell_type": "code",
   "execution_count": 5,
   "id": "3a5829da-1880-4e91-8c9e-b52faae69977",
   "metadata": {},
   "outputs": [
    {
     "name": "stdout",
     "output_type": "stream",
     "text": [
      "text_results keys： dict_keys(['pooled_output', 'sequence_output', 'encoder_outputs', 'default'])\n",
      "default shape:  (983, 128)\n",
      "pooled_output shape:  (983, 128)\n",
      "sequence_output shape:  (983, 128, 128)\n",
      "encoder_outputs shape:  4\n"
     ]
    }
   ],
   "source": [
    "movie_ids = list(map(lambda x: int(x.decode('utf-8')), movies[:, 0]))\n",
    "movie_titles = movies[:, 1]\n",
    "text_preprocessed = preprocess_model(movie_titles)\n",
    "text_results = encoder_model(text_preprocessed)\n",
    "\n",
    "print(\"text_results keys：\", text_results.keys())\n",
    "print(\"default shape: \", text_results[\"default\"].shape)\n",
    "print(\"pooled_output shape: \", text_results[\"pooled_output\"].shape)\n",
    "print(\"sequence_output shape: \", text_results[\"sequence_output\"].shape)\n",
    "print(\"encoder_outputs shape: \", len(text_results[\"encoder_outputs\"]))"
   ]
  },
  {
   "cell_type": "code",
   "execution_count": 6,
   "id": "9be2f1b0-4a17-4b5e-9855-5ef9198768dc",
   "metadata": {},
   "outputs": [
    {
     "name": "stdout",
     "output_type": "stream",
     "text": [
      "Movie embedding sample: (0, '0.033289623,0.93584985,-0.78879136,-0.8479012,-0.45617646,0.0041523413,0.052315157,0.9258627,0.065586776,-0.2704935,-0.99555856,0.22534114,0.99763864,0.9903045,-0.44187042,0.9429301,-0.5767987,-0.951814,0.9848147,-0.99357456,0.42498532,0.982719,-0.15330869,0.731322,0.9675594,0.73747975,-0.99981576,0.1222808,-0.47955528,0.9926778,-0.011694358,0.89508057,-0.7799539,-0.68458784,-0.9995591,0.7260162,0.081243195,0.06644778,-0.5784699,-0.99609244,-0.65765274,0.54004353,0.9745671,0.94613683,0.3980487,0.99889624,0.7613979,-0.98122907,0.00065292034,0.9893965,-0.83787817,-0.8747784,-0.15984374,-0.93225974,0.88025576,-0.03661433,0.86575645,-0.78201556,0.99807733,-0.9750251,0.99824923,-0.09797347,0.0053915936,-0.99980783,0.10235674,0.3789161,-0.9501642,0.9269745,-0.17737952,-0.89949137,0.9496383,0.9959522,0.97815263,0.13525155,0.90568894,0.7776421,0.009329109,-0.71928215,0.076657616,0.011706317,0.34641483,0.36574164,0.99943656,0.87314326,-0.42278737,0.8296881,-0.9976853,-0.9993033,0.99342763,-0.02198642,0.0077276183,-0.99731284,-0.56079054,-0.3981192,-0.9727012,-0.95626605,0.8909667,0.9418289,-0.5184121,0.8359817,-0.8963098,0.83200824,0.72505015,0.08576791,0.9986484,-0.14309855,0.9992609,0.9605063,-0.86907834,0.75193167,-0.98154604,-0.07207649,0.96523714,-0.9551497,0.99823284,-0.9911461,0.9855919,0.96983355,-0.09926456,0.859527,-0.54448986,-0.9960754,0.9915849,-0.0064085573,0.99977726,0.9836162,0.6051496,0.9930537')\n"
     ]
    }
   ],
   "source": [
    "movie_embeddings = list(map(lambda x: ','.join(list(map(lambda y: str(y), x.numpy()))), text_results[\"pooled_output\"]))\n",
    "movie_embeddings = list(zip(movie_ids, movie_embeddings))\n",
    "\n",
    "# remove duplicates\n",
    "movie_embeddings = dict(sorted(dict(movie_embeddings).items()))\n",
    "movie_embeddings = list(movie_embeddings.items())\n",
    "\n",
    "print(f\"Movie embedding sample: {movie_embeddings[0]}\")"
   ]
  },
  {
   "cell_type": "code",
   "execution_count": 7,
   "id": "9beeba0e-599f-4f8f-a882-bfbf87d1b223",
   "metadata": {},
   "outputs": [
    {
     "name": "stdout",
     "output_type": "stream",
     "text": [
      "Movie embeddings is uploaded to HDFS: hdfs://sparrow-recsys-dev:8020/sparrow_recsys/movie-embeddings/\n"
     ]
    }
   ],
   "source": [
    "# save to HDFS\n",
    "tmp_file_name = 'movie-embeddings.csv'\n",
    "\n",
    "if os.path.isfile(tmp_file_name):\n",
    "    os.remove(tmp_file_name)\n",
    "\n",
    "with open(tmp_file_name, 'a') as tmp_file:\n",
    "    list(map(lambda x: tmp_file.write(f\"{x[0]}\\t{x[1]}\\n\"), movie_embeddings))\n",
    "\n",
    "if os.path.isfile(tmp_file_name):\n",
    "    subprocess.Popen([\"hdfs\", \"dfs\", \"-rm\", \"-r\", HDFS_PATH_MOVIE_EMBEDDINGS], stdout=subprocess.PIPE).communicate()\n",
    "    subprocess.Popen([\"hdfs\", \"dfs\", \"-mkdir\", \"-p\", f\"{HDFS_PATH_MOVIE_EMBEDDINGS}0000/\"], stdout=subprocess.PIPE).communicate()\n",
    "    subprocess.Popen([\"hdfs\", \"dfs\", \"-put\", f\"./{tmp_file_name}\", f\"{HDFS_PATH_MOVIE_EMBEDDINGS}0000/part-0\"], stdout=subprocess.PIPE).communicate()\n",
    "    os.remove(tmp_file_name)\n",
    "    print(f\"Movie embeddings is uploaded to HDFS: {HDFS_PATH_MOVIE_EMBEDDINGS}\")"
   ]
  },
  {
   "cell_type": "code",
   "execution_count": 8,
   "id": "58ef68d9-3f2a-4ffd-91d1-4686f4423672",
   "metadata": {},
   "outputs": [
    {
     "name": "stdout",
     "output_type": "stream",
     "text": [
      "Movie embedding version is updated to: 20230926083751\n"
     ]
    }
   ],
   "source": [
    "# save to redis\n",
    "version=strftime(\"%Y%m%d%H%M%S\", localtime())\n",
    "\n",
    "movie_embeddings_redis = list(map(\n",
    "    lambda x: (f\"{REDIS_KEY_PREFIX_MOVIE_EMBEDDING}:{version}:{x[0]}\", x[1]),\n",
    "    movie_embeddings))\n",
    "\n",
    "r = redis.Redis(host=REDIS_SERVER, port=REDIS_PORT, password=REDIS_PASSWD)\n",
    "r.mset(dict(movie_embeddings_redis))\n",
    "r.set(REDIS_KEY_MOVIE_EMBEDDING_VERSION, version)\n",
    "\n",
    "print(f\"Movie embedding version is updated to: {version}\")"
   ]
  }
 ],
 "metadata": {
  "kernelspec": {
   "display_name": "Python 3 (ipykernel)",
   "language": "python",
   "name": "python3"
  },
  "language_info": {
   "codemirror_mode": {
    "name": "ipython",
    "version": 3
   },
   "file_extension": ".py",
   "mimetype": "text/x-python",
   "name": "python",
   "nbconvert_exporter": "python",
   "pygments_lexer": "ipython3",
   "version": "3.8.10"
  }
 },
 "nbformat": 4,
 "nbformat_minor": 5
}
